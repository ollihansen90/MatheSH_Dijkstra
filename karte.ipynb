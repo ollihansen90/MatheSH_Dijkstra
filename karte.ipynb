{
 "cells": [
  {
   "cell_type": "markdown",
   "metadata": {},
   "source": [
    "# Wegsuche auf der Karte\n",
    "## Karten\n",
    "Im Prinzip ist eine Karte nichts anderes als ein Graph mit vielen Knoten. In unserem Fall wird ein Bild generiert, bei dem jedes Pixel ein eigener Knoten ist. Jedes Pixel ist hierbei mit seinen acht Nachbarn verbunden (also oben, unten, links, rechts und die vier Diagonalen). \n",
    "\n",
    "### Exkurs: Perlin-Noise\n",
    "Perlin-Noise ist ein Algorithmus, der eine pseudo-zufällige Funktion generiert, die sich gut für die Erzeugung von natürlichen Strukturen eignet. Der Algorithmus erzeugt eine glatte Funktion, die in einem bestimmten Bereich variiert. Diese Funktion kann dann verwendet werden, um Höhenkarten oder andere natürliche Strukturen zu erzeugen. \n",
    "\n",
    "In unserem Fall wird Perlin-Noise verwendet, um eine Karte zu generieren, die wie eine natürliche Landschaft aussieht. Die Karte wird dann in ein Bild umgewandelt, das als Grundlage für den Wegsuchalgorithmus dient. \n",
    "\n",
    "Spiele wie Minecraft nutzen eine abgewandelte Version von Perlin-Noise, um die Spielwelt zu generieren."
   ]
  },
  {
   "cell_type": "code",
   "execution_count": null,
   "metadata": {},
   "outputs": [],
   "source": [
    "import time\n",
    "from utils import perlin_noise, a_stern, dijkstra, draw_path\n",
    "import numpy as np\n",
    "import matplotlib.pyplot as plt\n",
    "\n",
    "# --- Parameter ---\n",
    "dim = 50\n",
    "scale = 5\n",
    "seed = 0\n",
    "# -----------------\n",
    "noise = perlin_noise(dim, dim, scale, seed=seed)\n",
    "noise-=np.min(noise)\n",
    "noise/= np.max(noise)\n",
    "\n",
    "# Visualisierung\n",
    "plt.figure(figsize=(6, 6))\n",
    "plt.imshow(noise, cmap='terrain', interpolation='lanczos')\n",
    "plt.axis('off')\n",
    "plt.colorbar()\n",
    "plt.show()"
   ]
  },
  {
   "cell_type": "markdown",
   "metadata": {},
   "source": [
    "## Dijkstra als Wegsuchalgorithmus auf einer Karte\n",
    "Im folgenden Beispiel wird ein Wegsuchalgorithmus implementiert, der auf einer Karte arbeitet. Der Algorithmus verwendet Dijkstra, um den kürzesten Weg von einem Startpunkt zu einem Zielpunkt zu finden."
   ]
  },
  {
   "cell_type": "code",
   "execution_count": null,
   "metadata": {},
   "outputs": [],
   "source": [
    "start = np.array([dim//10,dim//10])\n",
    "ziel = dim-np.array([dim//10,dim//10])\n",
    "\n",
    "start = [dim//2,dim//2]\n",
    "\n",
    "distmat = np.linalg.norm(np.stack(np.meshgrid(np.arange(0,dim), np.arange(0,dim))).transpose(2,1,0)-ziel, axis=-1)\n",
    "heuristik = np.log(distmat+1e-8)+1\n",
    "distmat /= distmat[start[0], start[1]]\n",
    "heuristik = distmat\n",
    "\n",
    "t_start = time.time()\n",
    "pfad, costmat, besucht = dijkstra(noise, start, ziel, heuristik)\n",
    "print(\"Rechenzeit (in s):\",time.time()-t_start)\n",
    "\n",
    "plt.figure(figsize=[10,4])\n",
    "plt.subplot(1,3,1)\n",
    "plt.imshow(noise, cmap=\"terrain\", interpolation=\"lanczos\")\n",
    "plt.scatter(start[1], start[0], marker=\"x\", c=\"red\")\n",
    "plt.scatter(ziel[1], ziel[0], marker=\"x\", c=\"blue\")\n",
    "draw_path(pfad)\n",
    "plt.title(\"Karte\")\n",
    "plt.subplot(1,3,2)\n",
    "plt.imshow(costmat)\n",
    "plt.title(\"Kosten\")\n",
    "plt.subplot(1,3,3)\n",
    "plt.imshow(besucht)\n",
    "plt.title(\"Besucht (True/False)\")\n",
    "plt.show()"
   ]
  },
  {
   "cell_type": "markdown",
   "metadata": {},
   "source": [
    "## A* als Erweiterung von Dijkstra\n",
    "A* ist eine Erweiterung von Dijkstra, die eine Heuristik verwendet, um den Suchraum zu reduzieren. Der Algorithmus verwendet eine Heuristik, um die Kosten für jeden Knoten zu schätzen und wählt den Knoten mit den niedrigsten geschätzten Kosten aus. Dies führt zu einer schnelleren Suche als Dijkstra, da weniger Knoten untersucht werden müssen."
   ]
  },
  {
   "cell_type": "code",
   "execution_count": null,
   "metadata": {},
   "outputs": [],
   "source": [
    "#np.random.seed(1)\n",
    "start = np.array([dim//10,dim//10])\n",
    "#ziel = dim-np.array([dim//10,dim//10])\n",
    "\n",
    "start = [dim//2,dim//2]\n",
    "print(start, ziel)\n",
    "\n",
    "distmat = np.linalg.norm(np.stack(np.meshgrid(np.arange(0,dim), np.arange(0,dim))).transpose(2,1,0)-ziel, axis=-1)\n",
    "heuristik = distmat\n",
    "\n",
    "t_start = time.time()\n",
    "pfad, costmat, besucht = a_stern(noise, start, ziel, heuristik)\n",
    "print(\"Rechenzeit (in s):\",time.time()-t_start)\n",
    "\n",
    "plt.figure(figsize=[10,4])\n",
    "plt.subplot(1,3,1)\n",
    "plt.imshow(noise, cmap=\"terrain\", interpolation=\"lanczos\")\n",
    "plt.scatter(start[1], start[0], marker=\"x\", c=\"red\")\n",
    "plt.scatter(ziel[1], ziel[0], marker=\"x\", c=\"blue\")\n",
    "draw_path(pfad)\n",
    "plt.title(\"Karte\")\n",
    "plt.subplot(1,3,2)\n",
    "plt.imshow(costmat)\n",
    "plt.title(\"Kosten\")\n",
    "plt.subplot(1,3,3)\n",
    "plt.imshow(besucht)\n",
    "plt.title(\"Besucht (True/False)\")\n",
    "plt.show()"
   ]
  }
 ],
 "metadata": {
  "kernelspec": {
   "display_name": "Python 3",
   "language": "python",
   "name": "python3"
  },
  "language_info": {
   "codemirror_mode": {
    "name": "ipython",
    "version": 3
   },
   "file_extension": ".py",
   "mimetype": "text/x-python",
   "name": "python",
   "nbconvert_exporter": "python",
   "pygments_lexer": "ipython3",
   "version": "3.12.7"
  }
 },
 "nbformat": 4,
 "nbformat_minor": 2
}
