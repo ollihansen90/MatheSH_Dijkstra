{
 "cells": [
  {
   "cell_type": "markdown",
   "metadata": {},
   "source": [
    "# Kürzeste Wege auf Graphen\n",
    "## Einleitung\n",
    "In diesem Notebook werden wir uns mit dem Thema kürzeste Wege auf Graphen beschäftigen. Wir werden verschiedene Algorithmen kennenlernen, die uns helfen, den kürzesten Weg zwischen zwei Knoten in einem Graphen zu finden. Wir betrachten hierbei zunächst nur *ungerichtete* Graphen mit Gewichten.\n",
    "## Graphen\n",
    "Ein Graph ist eine Menge von Knoten (auch als Ecken oder Punkte bezeichnet) und eine Menge von Kanten (auch als Linien oder Verbindungen bezeichnet), die die Knoten miteinander verbinden. Ein Graph kann formal als Paar \\( G = (V, E) \\) dargestellt werden, wobei \\( V \\) die Menge der Knoten und \\( E \\) die Menge der Kanten ist. Jede Kante verbindet zwei Knoten und kann ein Gewicht haben, das die Kosten oder die Entfernung zwischen den beiden Knoten darstellt."
   ]
  },
  {
   "cell_type": "code",
   "execution_count": null,
   "metadata": {},
   "outputs": [],
   "source": [
    "import numpy as np\n",
    "import matplotlib.pyplot as plt\n",
    "from utils import Pfad, Knoten, Knotenliste, dijkstra_graph\n",
    "import random\n",
    "\n",
    "keys = \"SABCDEFGHIJKL\"\n",
    "m = {key:i for i, key in enumerate(keys)}\n",
    "\n",
    "verbindungen = np.array([\n",
    "    [1,4], # S\n",
    "    [0,3], # A\n",
    "    [2.5,3], # B\n",
    "    [6,4], # C\n",
    "    [0,2], # D\n",
    "    [6,0], # E\n",
    "    [0.5,0], # F\n",
    "    [4,1], # G\n",
    "    [2,1.5], # H\n",
    "    [6,2.5], # I\n",
    "    [8,2.5], # J\n",
    "    [7, 2], # K\n",
    "    [7,3], # L\n",
    "])\n",
    "\n",
    "adj_mat = np.zeros([len(verbindungen), len(verbindungen)])\n",
    "def add_adj(val):\n",
    "    adj_mat[m[val[0]], m[val[1]]] = int(val[2])\n",
    "    adj_mat[m[val[1]], m[val[0]]] = int(val[2])\n",
    "add_adj(\"SA7\");add_adj(\"SB2\");add_adj(\"SC3\");add_adj(\"AD4\");add_adj(\"BA3\");add_adj(\"BD4\");add_adj(\"BH5\");add_adj(\"CL2\");add_adj(\"DF5\");add_adj(\"EG2\");add_adj(\"EK5\");add_adj(\"FH3\");add_adj(\"GH2\");add_adj(\"IL4\");add_adj(\"IK4\");add_adj(\"IJ6\");add_adj(\"JK4\");add_adj(\"JL4\")\n",
    "print(adj_mat)\n",
    "\n",
    "def plot(data, adj):\n",
    "    plt.figure()\n",
    "    plt.scatter(data[:,0], data[:,1], zorder=3)\n",
    "    for i in range(len(data)):\n",
    "        plt.text(*(data[i]), keys[i], zorder=3)\n",
    "        for j in range(i+1, len(data)):\n",
    "            if adj[i,j]:\n",
    "                plt.plot([data[i,0], data[j,0]], [data[i,1], data[j,1]], \"k\")\n",
    "                plt.text(*((data[i]+data[j])/2), str(int(adj[i,j])), zorder=3)\n",
    "\n",
    "    plt.axis(\"scaled\")\n",
    "    plt.show()\n",
    "\n",
    "plot(verbindungen, adj_mat)"
   ]
  },
  {
   "cell_type": "markdown",
   "metadata": {},
   "source": [
    "## Wegsuche in einem Graphen\n",
    "Ein Weg in einem Graphen ist eine Sequenz von Knoten, die durch Kanten verbunden sind. Der kürzeste Weg zwischen zwei Knoten ist der Weg mit der geringsten Summe der Gewichte der Kanten, die den Weg bilden. Es gibt verschiedene Algorithmen, um den kürzesten Weg in einem Graphen zu finden:\n",
    "- Zufällig durchsuchen\n",
    "- \"Nach Gefühl\"-Suche\n",
    "- Greedy Suche\n",
    "- Dijkstra-Algorithmus\n",
    "- A*-Algorithmus\n",
    "\n",
    "### Zufällige Suche\n",
    "Bei der zufälligen Suche durchlaufen wir zufällig den kompletten Graphen, bis wir beim Zielknoten angelangt sind. Offensichtlich ist das nicht besonders effizient, da wir im schlimmsten Fall jeden Knoten häufiger besuchen. Anders herum kann die zufällige Suche jedoch auch den kürzesten Weg finden, wenn wir Glück haben!\n",
    "\n",
    "#### Pruning\n",
    "Eine Möglichkeit, den zufälligen Pfad zu kürzen ist es, einfach die \"Schlaufen\" zu beseitigen. Das bedeutet, dass wir im fertigen Pfad nachsehen, ob ein bestimmter Knoten mehrmals vorkommt. Sollte dies der Fall sein, entfernen wir einfach alle Knoten in unserer Liste zwischen den beiden gleichen Knoten. Der dadurch entstehende Pfad ist kürzer und wahrscheinlicher auch der optimale Pfad."
   ]
  },
  {
   "cell_type": "code",
   "execution_count": null,
   "metadata": {},
   "outputs": [],
   "source": [
    "knotenliste = Knotenliste()\n",
    "for i in range(len(verbindungen)):\n",
    "    knotenliste.append(Knoten(keys[i], verbindungen[i]))\n",
    "\n",
    "adj = [\"SA7\", \"SB2\", \"SC3\", \"AD4\", \"BA3\", \"BD4\", \"BH5\", \"CL2\", \"DF5\", \"EG2\", \"EK5\", \"FH3\", \"GH2\", \"IL4\", \"IK4\", \"IJ6\", \"JK4\", \"JL4\"]\n",
    "\n",
    "for a in adj:\n",
    "    knotenliste.verbinde(a)\n",
    "\n",
    "knotenliste.draw()\n",
    "\n",
    "random.seed(2)\n",
    "pfad = Pfad()\n",
    "pfad.randomwalk(knotenliste)\n",
    "print(\"Ohne Pruning:\")\n",
    "print(pfad)"
   ]
  },
  {
   "cell_type": "markdown",
   "metadata": {},
   "source": [
    "#### Bonusaufgabe:\n",
    "Implementiere die Funktion `prune`, die eine Liste von Knoten als Eingabe erhält und alle Knoten entfernt, die mehr als einmal vorkommen. Die Funktion sollte den gekürzten Pfad zurückgeben."
   ]
  },
  {
   "cell_type": "code",
   "execution_count": null,
   "metadata": {},
   "outputs": [],
   "source": [
    "def prune(liste):\n",
    "    out = []\n",
    "    return out\n",
    "\n",
    "liste = pfad.pfad\n",
    "kostenliste = pfad.kostenliste\n",
    "liste = prune(liste)\n",
    "print(\"Mit Pruning:\")\n",
    "print(liste)"
   ]
  },
  {
   "cell_type": "markdown",
   "metadata": {},
   "source": [
    "### \"Nach Gefühl\"-Suche\n",
    "Bei der \"Nach Gefühl\"-Suche versuchen wir, den kürzesten Weg zu finden, indem wir immer den Knoten auswählen, der uns am nächsten zum Zielknoten erscheint. Hierbei gibt es keine bestimmten Regeln, wir arbeiten einfach \"nach Gefühl\".\n"
   ]
  },
  {
   "cell_type": "code",
   "execution_count": null,
   "metadata": {},
   "outputs": [],
   "source": [
    "pfad = Pfad()\n",
    "pfad.menschenwalk(knotenliste)\n",
    "print(pfad)"
   ]
  },
  {
   "cell_type": "markdown",
   "metadata": {},
   "source": [
    "### Greedy-Suche\n",
    "Die \"Greedy\"-Suche ist eine Erweiterung der \"Nach Gefühl\"-Suche. Hierbei versuchen wir, den Knoten auszuwählen, der uns am nächsten zum Zielknoten erscheint und gleichzeitig die geringsten Kosten hat. Das bedeutet, dass wir immer den Knoten auswählen, der uns am nächsten zum Zielknoten erscheint und gleichzeitig die geringsten Kosten hat. Dies ist jedoch nicht immer optimal, da es sein kann, dass wir einen Knoten auswählen, der uns zwar am nächsten zum Zielknoten erscheint, aber nicht den kürzesten Weg zu diesem Knoten hat."
   ]
  },
  {
   "cell_type": "code",
   "execution_count": null,
   "metadata": {},
   "outputs": [],
   "source": [
    "pfad = Pfad()\n",
    "pfad.menschenwalk(knotenliste)\n",
    "print(pfad)"
   ]
  },
  {
   "cell_type": "markdown",
   "metadata": {},
   "source": [
    "### Dijkstra\n",
    "Der Dijkstra-Algorithmus ist ein Algorithmus, der den kürzesten Weg zwischen zwei Knoten in einem Graphen findet. Der Algorithmus funktioniert, indem er die Knoten in einer Prioritätswarteschlange speichert und immer den Knoten auswählt, der die geringsten Kosten hat. Der Algorithmus wird so lange wiederholt, bis wir den Zielknoten erreicht haben oder alle Knoten besucht wurden. \n",
    "\n",
    "Den Algorithmus werden wir gleich zunächst an der Tafel durchspielen."
   ]
  },
  {
   "cell_type": "code",
   "execution_count": null,
   "metadata": {},
   "outputs": [],
   "source": [
    "pfad = Pfad()\n",
    "pfad.menschenwalk(knotenliste)\n",
    "print(pfad)"
   ]
  },
  {
   "cell_type": "markdown",
   "metadata": {},
   "source": [
    "Zum Vergleich ist hier der Algorithmus in Python implementiert:"
   ]
  },
  {
   "cell_type": "code",
   "execution_count": null,
   "metadata": {},
   "outputs": [],
   "source": [
    "dijkstra_graph(adj_mat)"
   ]
  }
 ],
 "metadata": {
  "kernelspec": {
   "display_name": "Python 3",
   "language": "python",
   "name": "python3"
  },
  "language_info": {
   "codemirror_mode": {
    "name": "ipython",
    "version": 3
   },
   "file_extension": ".py",
   "mimetype": "text/x-python",
   "name": "python",
   "nbconvert_exporter": "python",
   "pygments_lexer": "ipython3",
   "version": "3.12.7"
  }
 },
 "nbformat": 4,
 "nbformat_minor": 2
}
