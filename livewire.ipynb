{
 "cells": [
  {
   "cell_type": "markdown",
   "metadata": {},
   "source": [
    "# Anwendungsbeispiel in der Bildverarbeitung\n",
    "## Livewire\n",
    "Der Livewire-Algorithmus wird sehr gerne zur *Bildsegmentierung* verwendet. Bei der Bildsegmentierung möchte man gerne bestimmte Bereiche eines Bildes hervorheben. Ein Beispiel ist die Segmentierung von Zellen in einem Mikroskopbild. Der Livewire-Algorithmus ist ein interaktiver Algorithmus, der dem Benutzer erlaubt, den Pfad zu beeinflussen, der durch das Bild gezogen wird. Der Algorithmus berechnet den Pfad, der die geringste \"Energie\" hat und dabei die vom Benutzer angegebenen Punkte berücksichtigt. Dies ermöglicht eine präzise Segmentierung von Objekten in Bildern.\n",
    "\n",
    "Die Idee ist also, dass ein Forscher nicht mehr Pixel für Pixel den Pfad angeben muss, sondern nur noch einige Landmarken setzen muss. Livewire findet dann den sinnvollsten Weg zwischen den Landmarken anhand des *Kantenbilds*. Läuft der Pfad nicht auf einer Kante entlang, so soll er \"bestraft\" werden."
   ]
  },
  {
   "cell_type": "code",
   "execution_count": null,
   "metadata": {},
   "outputs": [],
   "source": [
    "import numpy as np\n",
    "import matplotlib.pyplot as plt\n",
    "from utils import a_stern_img, draw_path, load_img, kantenbild\n",
    "\n",
    "img = \"marienkaefer.jpg\"\n",
    "#img = \"eule.jpg\"\n",
    "#img = \"pantoffeltierchen.jpg\"\n",
    "#img = \"holstentor.jpg\"\n",
    "\n",
    "img = load_img(\"bilder/\"+img)\n",
    "max_pix = 100\n",
    "downsample = int(np.max(img.shape)//max_pix)\n",
    "img = img[::downsample, ::downsample]\n",
    "kanten = kantenbild(img)\n",
    "\n",
    "plt.figure(figsize=(10,5))\n",
    "plt.subplot(1,2,1)\n",
    "plt.title(\"Original (Grauwertbild)\")\n",
    "plt.axis(\"off\")\n",
    "plt.imshow(img)\n",
    "plt.subplot(1,2,2)\n",
    "plt.title(\"Kantenbild\")\n",
    "plt.axis(\"off\")\n",
    "plt.imshow(kanten)\n",
    "plt.show()"
   ]
  },
  {
   "cell_type": "markdown",
   "metadata": {},
   "source": [
    "## Landmarken\n",
    "Landmarken sind Punkte, die der Benutzer im Bild setzen kann, um den Pfad zu beeinflussen. Hierbei möchte man die Landmarken nicht zu weit auseinander wählen, damit der Algorithmus nicht so lange \"suchen\" muss. "
   ]
  },
  {
   "cell_type": "code",
   "execution_count": null,
   "metadata": {},
   "outputs": [],
   "source": [
    "eckpunkte = np.array([\n",
    "    [10,25],\n",
    "    [7,35],\n",
    "    [7,45],\n",
    "    [20,63],\n",
    "    [40,63],\n",
    "    [38,40],\n",
    "    [33,26],\n",
    "    [33,16],\n",
    "    [25,15],\n",
    "    [20,17],\n",
    "    [10,25],\n",
    "    ])\n",
    "\n",
    "plt.figure()\n",
    "plt.imshow(img)\n",
    "for e in eckpunkte:\n",
    "    plt.scatter(e[1], e[0], c=\"red\")\n",
    "plt.show()"
   ]
  },
  {
   "cell_type": "code",
   "execution_count": null,
   "metadata": {},
   "outputs": [],
   "source": [
    "pfad = []\n",
    "c = 0\n",
    "h, w = img.shape\n",
    "for start, ziel in zip(eckpunkte[:-1], eckpunkte[1:]):\n",
    "    print(\"Eckpunkt\",c:=c+1)\n",
    "    distmat = np.linalg.norm(np.stack(np.meshgrid(np.arange(0,h), np.arange(0,w))).transpose(2,1,0)-ziel, axis=-1)\n",
    "    heuristik = np.log(distmat+1e-8)\n",
    "    p,*_ = a_stern_img(kanten, start, ziel, 0*heuristik)\n",
    "    pfad.append(p)\n",
    "\n",
    "plt.figure()\n",
    "plt.imshow(img)\n",
    "for p in pfad:\n",
    "    draw_path(p, \"red\")\n",
    "plt.show()"
   ]
  }
 ],
 "metadata": {
  "kernelspec": {
   "display_name": "Python 3",
   "language": "python",
   "name": "python3"
  },
  "language_info": {
   "codemirror_mode": {
    "name": "ipython",
    "version": 3
   },
   "file_extension": ".py",
   "mimetype": "text/x-python",
   "name": "python",
   "nbconvert_exporter": "python",
   "pygments_lexer": "ipython3",
   "version": "3.12.7"
  }
 },
 "nbformat": 4,
 "nbformat_minor": 2
}
